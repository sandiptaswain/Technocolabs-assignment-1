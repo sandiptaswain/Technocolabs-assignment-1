{
 "cells": [
  {
   "cell_type": "markdown",
   "id": "76ea4c08",
   "metadata": {
    "papermill": {
     "duration": 0.004531,
     "end_time": "2023-07-13T16:36:49.247745",
     "exception": false,
     "start_time": "2023-07-13T16:36:49.243214",
     "status": "completed"
    },
    "tags": []
   },
   "source": [
    "**This notebook is an exercise in the [Data Cleaning](https://www.kaggle.com/learn/data-cleaning) course.  You can reference the tutorial at [this link](https://www.kaggle.com/alexisbcook/character-encodings).**\n",
    "\n",
    "---\n"
   ]
  },
  {
   "cell_type": "markdown",
   "id": "05e4319e",
   "metadata": {
    "papermill": {
     "duration": 0.003706,
     "end_time": "2023-07-13T16:36:49.255712",
     "exception": false,
     "start_time": "2023-07-13T16:36:49.252006",
     "status": "completed"
    },
    "tags": []
   },
   "source": [
    "In this exercise, you'll apply what you learned in the **Character encodings** tutorial.\n",
    "\n",
    "# Setup\n",
    "\n",
    "The questions below will give you feedback on your work. Run the following cell to set up the feedback system."
   ]
  },
  {
   "cell_type": "code",
   "execution_count": 1,
   "id": "65a1801a",
   "metadata": {
    "execution": {
     "iopub.execute_input": "2023-07-13T16:36:49.265909Z",
     "iopub.status.busy": "2023-07-13T16:36:49.265152Z",
     "iopub.status.idle": "2023-07-13T16:36:49.358599Z",
     "shell.execute_reply": "2023-07-13T16:36:49.357643Z"
    },
    "papermill": {
     "duration": 0.102201,
     "end_time": "2023-07-13T16:36:49.361880",
     "exception": false,
     "start_time": "2023-07-13T16:36:49.259679",
     "status": "completed"
    },
    "tags": []
   },
   "outputs": [
    {
     "name": "stdout",
     "output_type": "stream",
     "text": [
      "Setup Complete\n"
     ]
    }
   ],
   "source": [
    "from learntools.core import binder\n",
    "binder.bind(globals())\n",
    "from learntools.data_cleaning.ex4 import *\n",
    "print(\"Setup Complete\")"
   ]
  },
  {
   "cell_type": "markdown",
   "id": "5ade3083",
   "metadata": {
    "papermill": {
     "duration": 0.003948,
     "end_time": "2023-07-13T16:36:49.370363",
     "exception": false,
     "start_time": "2023-07-13T16:36:49.366415",
     "status": "completed"
    },
    "tags": []
   },
   "source": [
    "# Get our environment set up\n",
    "\n",
    "The first thing we'll need to do is load in the libraries we'll be using."
   ]
  },
  {
   "cell_type": "code",
   "execution_count": 2,
   "id": "9b401e31",
   "metadata": {
    "execution": {
     "iopub.execute_input": "2023-07-13T16:36:49.380121Z",
     "iopub.status.busy": "2023-07-13T16:36:49.379761Z",
     "iopub.status.idle": "2023-07-13T16:36:49.385226Z",
     "shell.execute_reply": "2023-07-13T16:36:49.383643Z"
    },
    "papermill": {
     "duration": 0.013204,
     "end_time": "2023-07-13T16:36:49.387646",
     "exception": false,
     "start_time": "2023-07-13T16:36:49.374442",
     "status": "completed"
    },
    "tags": []
   },
   "outputs": [],
   "source": [
    "# modules we'll use\n",
    "import pandas as pd\n",
    "import numpy as np\n",
    "\n",
    "# helpful character encoding module\n",
    "import charset_normalizer\n",
    "\n",
    "# set seed for reproducibility\n",
    "np.random.seed(0)"
   ]
  },
  {
   "cell_type": "markdown",
   "id": "9a830daf",
   "metadata": {
    "papermill": {
     "duration": 0.004176,
     "end_time": "2023-07-13T16:36:49.396727",
     "exception": false,
     "start_time": "2023-07-13T16:36:49.392551",
     "status": "completed"
    },
    "tags": []
   },
   "source": [
    "# 1) What are encodings?\n",
    "\n",
    "You're working with a dataset composed of bytes.  Run the code cell below to print a sample entry."
   ]
  },
  {
   "cell_type": "code",
   "execution_count": 3,
   "id": "958c60f7",
   "metadata": {
    "execution": {
     "iopub.execute_input": "2023-07-13T16:36:49.406701Z",
     "iopub.status.busy": "2023-07-13T16:36:49.406373Z",
     "iopub.status.idle": "2023-07-13T16:36:49.411112Z",
     "shell.execute_reply": "2023-07-13T16:36:49.410184Z"
    },
    "papermill": {
     "duration": 0.012434,
     "end_time": "2023-07-13T16:36:49.413347",
     "exception": false,
     "start_time": "2023-07-13T16:36:49.400913",
     "status": "completed"
    },
    "tags": []
   },
   "outputs": [
    {
     "name": "stdout",
     "output_type": "stream",
     "text": [
      "b'\\xa7A\\xa6n'\n",
      "data type: <class 'bytes'>\n"
     ]
    }
   ],
   "source": [
    "sample_entry = b'\\xa7A\\xa6n'\n",
    "print(sample_entry)\n",
    "print('data type:', type(sample_entry))"
   ]
  },
  {
   "cell_type": "markdown",
   "id": "3bcf3cb3",
   "metadata": {
    "papermill": {
     "duration": 0.004234,
     "end_time": "2023-07-13T16:36:49.421993",
     "exception": false,
     "start_time": "2023-07-13T16:36:49.417759",
     "status": "completed"
    },
    "tags": []
   },
   "source": [
    "You notice that it doesn't use the standard UTF-8 encoding. \n",
    "\n",
    "Use the next code cell to create a variable `new_entry` that changes the encoding from `\"big5-tw\"` to `\"utf-8\"`.  `new_entry` should have the bytes datatype."
   ]
  },
  {
   "cell_type": "code",
   "execution_count": 4,
   "id": "20f3c45f",
   "metadata": {
    "execution": {
     "iopub.execute_input": "2023-07-13T16:36:49.432562Z",
     "iopub.status.busy": "2023-07-13T16:36:49.432181Z",
     "iopub.status.idle": "2023-07-13T16:36:49.441876Z",
     "shell.execute_reply": "2023-07-13T16:36:49.440517Z"
    },
    "papermill": {
     "duration": 0.017502,
     "end_time": "2023-07-13T16:36:49.443883",
     "exception": false,
     "start_time": "2023-07-13T16:36:49.426381",
     "status": "completed"
    },
    "tags": []
   },
   "outputs": [
    {
     "data": {
      "application/javascript": [
       "parent.postMessage({\"jupyterEvent\": \"custom.exercise_interaction\", \"data\": {\"outcomeType\": 1, \"valueTowardsCompletion\": 0.3333333333333333, \"interactionType\": 1, \"questionType\": 1, \"questionId\": \"1_EncodingsIntro\", \"learnToolsVersion\": \"0.3.4\", \"failureMessage\": \"\", \"exceptionClass\": \"\", \"trace\": \"\"}}, \"*\")"
      ],
      "text/plain": [
       "<IPython.core.display.Javascript object>"
      ]
     },
     "metadata": {},
     "output_type": "display_data"
    },
    {
     "data": {
      "text/markdown": [
       "<span style=\"color:#33cc33\">Correct</span>"
      ],
      "text/plain": [
       "Correct"
      ]
     },
     "metadata": {},
     "output_type": "display_data"
    }
   ],
   "source": [
    "before=sample_entry.decode(\"big5-tw\")\n",
    "new_entry = before.encode()\n",
    "\n",
    "# Check your answer\n",
    "q1.check()"
   ]
  },
  {
   "cell_type": "code",
   "execution_count": 5,
   "id": "a6a761cb",
   "metadata": {
    "execution": {
     "iopub.execute_input": "2023-07-13T16:36:49.456235Z",
     "iopub.status.busy": "2023-07-13T16:36:49.455864Z",
     "iopub.status.idle": "2023-07-13T16:36:49.460273Z",
     "shell.execute_reply": "2023-07-13T16:36:49.459149Z"
    },
    "papermill": {
     "duration": 0.013969,
     "end_time": "2023-07-13T16:36:49.462495",
     "exception": false,
     "start_time": "2023-07-13T16:36:49.448526",
     "status": "completed"
    },
    "tags": []
   },
   "outputs": [],
   "source": [
    "# Lines below will give you a hint or solution code\n",
    "#q1.hint()\n",
    "#q1.solution()"
   ]
  },
  {
   "cell_type": "markdown",
   "id": "f94a0755",
   "metadata": {
    "papermill": {
     "duration": 0.003904,
     "end_time": "2023-07-13T16:36:49.471395",
     "exception": false,
     "start_time": "2023-07-13T16:36:49.467491",
     "status": "completed"
    },
    "tags": []
   },
   "source": [
    "# 2) Reading in files with encoding problems\n",
    "\n",
    "Use the code cell below to read in this file at path `\"../input/fatal-police-shootings-in-the-us/PoliceKillingsUS.csv\"`.  \n",
    "\n",
    "Figure out what the correct encoding should be and read in the file to a DataFrame `police_killings`."
   ]
  },
  {
   "cell_type": "code",
   "execution_count": 6,
   "id": "ec022671",
   "metadata": {
    "execution": {
     "iopub.execute_input": "2023-07-13T16:36:49.481322Z",
     "iopub.status.busy": "2023-07-13T16:36:49.480941Z",
     "iopub.status.idle": "2023-07-13T16:36:49.504886Z",
     "shell.execute_reply": "2023-07-13T16:36:49.503614Z"
    },
    "papermill": {
     "duration": 0.03177,
     "end_time": "2023-07-13T16:36:49.507199",
     "exception": false,
     "start_time": "2023-07-13T16:36:49.475429",
     "status": "completed"
    },
    "tags": []
   },
   "outputs": [
    {
     "data": {
      "application/javascript": [
       "parent.postMessage({\"jupyterEvent\": \"custom.exercise_interaction\", \"data\": {\"outcomeType\": 1, \"valueTowardsCompletion\": 0.3333333333333333, \"interactionType\": 1, \"questionType\": 1, \"questionId\": \"2_ReadIn\", \"learnToolsVersion\": \"0.3.4\", \"failureMessage\": \"\", \"exceptionClass\": \"\", \"trace\": \"\"}}, \"*\")"
      ],
      "text/plain": [
       "<IPython.core.display.Javascript object>"
      ]
     },
     "metadata": {},
     "output_type": "display_data"
    },
    {
     "data": {
      "text/markdown": [
       "<span style=\"color:#33cc33\">Correct</span>"
      ],
      "text/plain": [
       "Correct"
      ]
     },
     "metadata": {},
     "output_type": "display_data"
    }
   ],
   "source": [
    "# TODO: Load in the DataFrame correctly.\n",
    "police_killings = pd.read_csv(\"../input/fatal-police-shootings-in-the-us/PoliceKillingsUS.csv\", encoding='Windows-1252')\n",
    "\n",
    "# Check your answer\n",
    "q2.check()"
   ]
  },
  {
   "cell_type": "markdown",
   "id": "8608636e",
   "metadata": {
    "papermill": {
     "duration": 0.004501,
     "end_time": "2023-07-13T16:36:49.517725",
     "exception": false,
     "start_time": "2023-07-13T16:36:49.513224",
     "status": "completed"
    },
    "tags": []
   },
   "source": [
    "Feel free to use any additional code cells for supplemental work.  To get credit for finishing this question, you'll need to run `q2.check()` and get a result of **Correct**."
   ]
  },
  {
   "cell_type": "code",
   "execution_count": 7,
   "id": "bab998f4",
   "metadata": {
    "execution": {
     "iopub.execute_input": "2023-07-13T16:36:49.529215Z",
     "iopub.status.busy": "2023-07-13T16:36:49.528829Z",
     "iopub.status.idle": "2023-07-13T16:36:49.533507Z",
     "shell.execute_reply": "2023-07-13T16:36:49.532201Z"
    },
    "papermill": {
     "duration": 0.013819,
     "end_time": "2023-07-13T16:36:49.536300",
     "exception": false,
     "start_time": "2023-07-13T16:36:49.522481",
     "status": "completed"
    },
    "tags": []
   },
   "outputs": [],
   "source": [
    "# (Optional) Use this code cell for any additional work."
   ]
  },
  {
   "cell_type": "code",
   "execution_count": 8,
   "id": "6528700d",
   "metadata": {
    "execution": {
     "iopub.execute_input": "2023-07-13T16:36:49.547953Z",
     "iopub.status.busy": "2023-07-13T16:36:49.547537Z",
     "iopub.status.idle": "2023-07-13T16:36:49.553532Z",
     "shell.execute_reply": "2023-07-13T16:36:49.551699Z"
    },
    "papermill": {
     "duration": 0.015617,
     "end_time": "2023-07-13T16:36:49.556856",
     "exception": false,
     "start_time": "2023-07-13T16:36:49.541239",
     "status": "completed"
    },
    "tags": []
   },
   "outputs": [],
   "source": [
    "# Lines below will give you a hint or solution code\n",
    "#q2.hint()\n",
    "#q2.solution()"
   ]
  },
  {
   "cell_type": "markdown",
   "id": "32b32665",
   "metadata": {
    "papermill": {
     "duration": 0.004492,
     "end_time": "2023-07-13T16:36:49.566338",
     "exception": false,
     "start_time": "2023-07-13T16:36:49.561846",
     "status": "completed"
    },
    "tags": []
   },
   "source": [
    "# 3) Saving your files with UTF-8 encoding\n",
    "\n",
    "Save a version of the police killings dataset to CSV with UTF-8 encoding.  Your answer will be marked correct after saving this file.  \n",
    "\n",
    "Note: When using the `to_csv()` method, supply only the name of the file (e.g., `\"my_file.csv\"`).  This saves the file at the filepath `\"/kaggle/working/my_file.csv\"`."
   ]
  },
  {
   "cell_type": "code",
   "execution_count": 9,
   "id": "c44a53c7",
   "metadata": {
    "execution": {
     "iopub.execute_input": "2023-07-13T16:36:49.577591Z",
     "iopub.status.busy": "2023-07-13T16:36:49.577233Z",
     "iopub.status.idle": "2023-07-13T16:36:49.616063Z",
     "shell.execute_reply": "2023-07-13T16:36:49.614708Z"
    },
    "papermill": {
     "duration": 0.047286,
     "end_time": "2023-07-13T16:36:49.618296",
     "exception": false,
     "start_time": "2023-07-13T16:36:49.571010",
     "status": "completed"
    },
    "tags": []
   },
   "outputs": [
    {
     "data": {
      "application/javascript": [
       "parent.postMessage({\"jupyterEvent\": \"custom.exercise_interaction\", \"data\": {\"outcomeType\": 1, \"valueTowardsCompletion\": 0.3333333333333333, \"interactionType\": 1, \"questionType\": 2, \"questionId\": \"3_SaveCSV\", \"learnToolsVersion\": \"0.3.4\", \"failureMessage\": \"\", \"exceptionClass\": \"\", \"trace\": \"\"}}, \"*\")"
      ],
      "text/plain": [
       "<IPython.core.display.Javascript object>"
      ]
     },
     "metadata": {},
     "output_type": "display_data"
    },
    {
     "data": {
      "text/markdown": [
       "<span style=\"color:#33cc33\">Correct</span>"
      ],
      "text/plain": [
       "Correct"
      ]
     },
     "metadata": {},
     "output_type": "display_data"
    }
   ],
   "source": [
    "# TODO: Save the police killings dataset to CSV\n",
    "police_killings.to_csv(\"my_file.csv\")\n",
    "\n",
    "# Check your answer\n",
    "q3.check()"
   ]
  },
  {
   "cell_type": "code",
   "execution_count": 10,
   "id": "47d1a134",
   "metadata": {
    "execution": {
     "iopub.execute_input": "2023-07-13T16:36:49.629843Z",
     "iopub.status.busy": "2023-07-13T16:36:49.629517Z",
     "iopub.status.idle": "2023-07-13T16:36:49.635356Z",
     "shell.execute_reply": "2023-07-13T16:36:49.632833Z"
    },
    "papermill": {
     "duration": 0.014504,
     "end_time": "2023-07-13T16:36:49.637798",
     "exception": false,
     "start_time": "2023-07-13T16:36:49.623294",
     "status": "completed"
    },
    "tags": []
   },
   "outputs": [],
   "source": [
    "# Lines below will give you a hint or solution code\n",
    "#q3.hint()\n",
    "#q3.solution()"
   ]
  },
  {
   "cell_type": "markdown",
   "id": "c8eccb1a",
   "metadata": {
    "papermill": {
     "duration": 0.005966,
     "end_time": "2023-07-13T16:36:49.649790",
     "exception": false,
     "start_time": "2023-07-13T16:36:49.643824",
     "status": "completed"
    },
    "tags": []
   },
   "source": [
    "# (Optional) More practice\n",
    "\n",
    "Check out [this dataset of files in different character encodings](https://www.kaggle.com/rtatman/character-encoding-examples). Can you read in all the files with their original encodings and them save them out as UTF-8 files?\n",
    "\n",
    "If you have a file that's in UTF-8 but has just a couple of weird-looking characters in it, you can try out the [ftfy module](https://ftfy.readthedocs.io/en/latest/#) and see if it helps. \n",
    "\n",
    "# Keep going\n",
    "\n",
    "In the final lesson, learn how to [**clean up inconsistent text entries**](https://www.kaggle.com/alexisbcook/inconsistent-data-entry) in your dataset."
   ]
  },
  {
   "cell_type": "markdown",
   "id": "31da4dbe",
   "metadata": {
    "papermill": {
     "duration": 0.005394,
     "end_time": "2023-07-13T16:36:49.660385",
     "exception": false,
     "start_time": "2023-07-13T16:36:49.654991",
     "status": "completed"
    },
    "tags": []
   },
   "source": [
    "---\n",
    "\n",
    "\n",
    "\n",
    "\n",
    "*Have questions or comments? Visit the [course discussion forum](https://www.kaggle.com/learn/data-cleaning/discussion) to chat with other learners.*"
   ]
  }
 ],
 "metadata": {
  "kernelspec": {
   "display_name": "Python 3",
   "language": "python",
   "name": "python3"
  },
  "language_info": {
   "codemirror_mode": {
    "name": "ipython",
    "version": 3
   },
   "file_extension": ".py",
   "mimetype": "text/x-python",
   "name": "python",
   "nbconvert_exporter": "python",
   "pygments_lexer": "ipython3",
   "version": "3.10.12"
  },
  "papermill": {
   "default_parameters": {},
   "duration": 10.875304,
   "end_time": "2023-07-13T16:36:50.589347",
   "environment_variables": {},
   "exception": null,
   "input_path": "__notebook__.ipynb",
   "output_path": "__notebook__.ipynb",
   "parameters": {},
   "start_time": "2023-07-13T16:36:39.714043",
   "version": "2.4.0"
  }
 },
 "nbformat": 4,
 "nbformat_minor": 5
}
