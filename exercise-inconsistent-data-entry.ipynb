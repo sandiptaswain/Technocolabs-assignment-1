{
 "cells": [
  {
   "cell_type": "markdown",
   "id": "29ba3923",
   "metadata": {
    "papermill": {
     "duration": 0.00724,
     "end_time": "2023-07-13T16:59:45.416876",
     "exception": false,
     "start_time": "2023-07-13T16:59:45.409636",
     "status": "completed"
    },
    "tags": []
   },
   "source": [
    "**This notebook is an exercise in the [Data Cleaning](https://www.kaggle.com/learn/data-cleaning) course.  You can reference the tutorial at [this link](https://www.kaggle.com/alexisbcook/inconsistent-data-entry).**\n",
    "\n",
    "---\n"
   ]
  },
  {
   "cell_type": "markdown",
   "id": "a767d58e",
   "metadata": {
    "papermill": {
     "duration": 0.006401,
     "end_time": "2023-07-13T16:59:45.430179",
     "exception": false,
     "start_time": "2023-07-13T16:59:45.423778",
     "status": "completed"
    },
    "tags": []
   },
   "source": [
    "In this exercise, you'll apply what you learned in the **Inconsistent data entry** tutorial.\n",
    "\n",
    "# Setup\n",
    "\n",
    "The questions below will give you feedback on your work. Run the following cell to set up the feedback system."
   ]
  },
  {
   "cell_type": "code",
   "execution_count": 1,
   "id": "ac49af34",
   "metadata": {
    "execution": {
     "iopub.execute_input": "2023-07-13T16:59:45.445917Z",
     "iopub.status.busy": "2023-07-13T16:59:45.445525Z",
     "iopub.status.idle": "2023-07-13T16:59:45.643815Z",
     "shell.execute_reply": "2023-07-13T16:59:45.642574Z"
    },
    "papermill": {
     "duration": 0.209004,
     "end_time": "2023-07-13T16:59:45.646370",
     "exception": false,
     "start_time": "2023-07-13T16:59:45.437366",
     "status": "completed"
    },
    "tags": []
   },
   "outputs": [
    {
     "name": "stdout",
     "output_type": "stream",
     "text": [
      "Setup Complete\n"
     ]
    }
   ],
   "source": [
    "from learntools.core import binder\n",
    "binder.bind(globals())\n",
    "from learntools.data_cleaning.ex5 import *\n",
    "print(\"Setup Complete\")"
   ]
  },
  {
   "cell_type": "markdown",
   "id": "a4d8d3ab",
   "metadata": {
    "papermill": {
     "duration": 0.006742,
     "end_time": "2023-07-13T16:59:45.660210",
     "exception": false,
     "start_time": "2023-07-13T16:59:45.653468",
     "status": "completed"
    },
    "tags": []
   },
   "source": [
    "# Get our environment set up\n",
    "\n",
    "The first thing we'll need to do is load in the libraries and dataset we'll be using.  We use the same dataset from the tutorial."
   ]
  },
  {
   "cell_type": "code",
   "execution_count": 2,
   "id": "8f66f5f3",
   "metadata": {
    "execution": {
     "iopub.execute_input": "2023-07-13T16:59:45.677538Z",
     "iopub.status.busy": "2023-07-13T16:59:45.675438Z",
     "iopub.status.idle": "2023-07-13T16:59:45.696133Z",
     "shell.execute_reply": "2023-07-13T16:59:45.695109Z"
    },
    "papermill": {
     "duration": 0.031568,
     "end_time": "2023-07-13T16:59:45.698667",
     "exception": false,
     "start_time": "2023-07-13T16:59:45.667099",
     "status": "completed"
    },
    "tags": []
   },
   "outputs": [],
   "source": [
    "# modules we'll use\n",
    "import pandas as pd\n",
    "import numpy as np\n",
    "\n",
    "# helpful modules\n",
    "import fuzzywuzzy\n",
    "from fuzzywuzzy import process\n",
    "import charset_normalizer\n",
    "\n",
    "# read in all our data\n",
    "professors = pd.read_csv(\"../input/pakistan-intellectual-capital/pakistan_intellectual_capital.csv\")\n",
    "\n",
    "# set seed for reproducibility\n",
    "np.random.seed(0)"
   ]
  },
  {
   "cell_type": "markdown",
   "id": "81ac667f",
   "metadata": {
    "papermill": {
     "duration": 0.006754,
     "end_time": "2023-07-13T16:59:45.712568",
     "exception": false,
     "start_time": "2023-07-13T16:59:45.705814",
     "status": "completed"
    },
    "tags": []
   },
   "source": [
    "Next, we'll redo all of the work that we did in the tutorial."
   ]
  },
  {
   "cell_type": "code",
   "execution_count": 3,
   "id": "2d47ac9a",
   "metadata": {
    "execution": {
     "iopub.execute_input": "2023-07-13T16:59:45.728725Z",
     "iopub.status.busy": "2023-07-13T16:59:45.727588Z",
     "iopub.status.idle": "2023-07-13T16:59:45.744227Z",
     "shell.execute_reply": "2023-07-13T16:59:45.742711Z"
    },
    "papermill": {
     "duration": 0.02725,
     "end_time": "2023-07-13T16:59:45.746602",
     "exception": false,
     "start_time": "2023-07-13T16:59:45.719352",
     "status": "completed"
    },
    "tags": []
   },
   "outputs": [
    {
     "name": "stdout",
     "output_type": "stream",
     "text": [
      "All done!\n"
     ]
    }
   ],
   "source": [
    "# convert to lower case\n",
    "professors['Country'] = professors['Country'].str.lower()\n",
    "# remove trailing white spaces\n",
    "professors['Country'] = professors['Country'].str.strip()\n",
    "\n",
    "# get the top 10 closest matches to \"south korea\"\n",
    "countries = professors['Country'].unique()\n",
    "matches = fuzzywuzzy.process.extract(\"south korea\", countries, limit=10, scorer=fuzzywuzzy.fuzz.token_sort_ratio)\n",
    "\n",
    "def replace_matches_in_column(df, column, string_to_match, min_ratio = 47):\n",
    "    # get a list of unique strings\n",
    "    strings = df[column].unique()\n",
    "    \n",
    "    # get the top 10 closest matches to our input string\n",
    "    matches = fuzzywuzzy.process.extract(string_to_match, strings, \n",
    "                                         limit=10, scorer=fuzzywuzzy.fuzz.token_sort_ratio)\n",
    "\n",
    "    # only get matches with a ratio > 90\n",
    "    close_matches = [matches[0] for matches in matches if matches[1] >= min_ratio]\n",
    "\n",
    "    # get the rows of all the close matches in our dataframe\n",
    "    rows_with_matches = df[column].isin(close_matches)\n",
    "\n",
    "    # replace all rows with close matches with the input matches \n",
    "    df.loc[rows_with_matches, column] = string_to_match\n",
    "    \n",
    "    # let us know the function's done\n",
    "    print(\"All done!\")\n",
    "    \n",
    "replace_matches_in_column(df=professors, column='Country', string_to_match=\"south korea\")\n",
    "countries = professors['Country'].unique()"
   ]
  },
  {
   "cell_type": "markdown",
   "id": "310e5543",
   "metadata": {
    "papermill": {
     "duration": 0.00663,
     "end_time": "2023-07-13T16:59:45.760152",
     "exception": false,
     "start_time": "2023-07-13T16:59:45.753522",
     "status": "completed"
    },
    "tags": []
   },
   "source": [
    "# 1) Examine another column\n",
    "\n",
    "Write code below to take a look at all the unique values in the \"Graduated from\" column."
   ]
  },
  {
   "cell_type": "code",
   "execution_count": 4,
   "id": "fad45b15",
   "metadata": {
    "execution": {
     "iopub.execute_input": "2023-07-13T16:59:45.775683Z",
     "iopub.status.busy": "2023-07-13T16:59:45.775244Z",
     "iopub.status.idle": "2023-07-13T16:59:45.780793Z",
     "shell.execute_reply": "2023-07-13T16:59:45.779617Z"
    },
    "papermill": {
     "duration": 0.016167,
     "end_time": "2023-07-13T16:59:45.783155",
     "exception": false,
     "start_time": "2023-07-13T16:59:45.766988",
     "status": "completed"
    },
    "tags": []
   },
   "outputs": [],
   "source": [
    "# TODO: Your code here\n",
    "unis = professors['Graduated from'].unique()"
   ]
  },
  {
   "cell_type": "markdown",
   "id": "904b0756",
   "metadata": {
    "papermill": {
     "duration": 0.007852,
     "end_time": "2023-07-13T16:59:45.797995",
     "exception": false,
     "start_time": "2023-07-13T16:59:45.790143",
     "status": "completed"
    },
    "tags": []
   },
   "source": [
    "Do you notice any inconsistencies in the data?  Can any of the inconsistencies in the data be fixed by removing white spaces at the beginning and end of cells?\n",
    "\n",
    "Once you have answered these questions, run the code cell below to get credit for your work."
   ]
  },
  {
   "cell_type": "code",
   "execution_count": 5,
   "id": "4b7bdced",
   "metadata": {
    "execution": {
     "iopub.execute_input": "2023-07-13T16:59:45.813782Z",
     "iopub.status.busy": "2023-07-13T16:59:45.813345Z",
     "iopub.status.idle": "2023-07-13T16:59:45.825172Z",
     "shell.execute_reply": "2023-07-13T16:59:45.823663Z"
    },
    "papermill": {
     "duration": 0.022943,
     "end_time": "2023-07-13T16:59:45.827751",
     "exception": false,
     "start_time": "2023-07-13T16:59:45.804808",
     "status": "completed"
    },
    "tags": []
   },
   "outputs": [
    {
     "data": {
      "application/javascript": [
       "parent.postMessage({\"jupyterEvent\": \"custom.exercise_interaction\", \"data\": {\"outcomeType\": 1, \"valueTowardsCompletion\": 0.3333333333333333, \"interactionType\": 1, \"questionType\": 4, \"questionId\": \"1_ExamineProvince\", \"learnToolsVersion\": \"0.3.4\", \"failureMessage\": \"\", \"exceptionClass\": \"\", \"trace\": \"\"}}, \"*\")"
      ],
      "text/plain": [
       "<IPython.core.display.Javascript object>"
      ]
     },
     "metadata": {},
     "output_type": "display_data"
    },
    {
     "data": {
      "text/markdown": [
       "<span style=\"color:#33cc33\">Correct:</span> \n",
       "\n",
       "There are inconsistencies that can be fixed by removing white spaces at the beginning and end of cells.  For instance, \"University of Central Florida\" and \" University of Central Florida\" both appear in the column."
      ],
      "text/plain": [
       "Correct: \n",
       "\n",
       "There are inconsistencies that can be fixed by removing white spaces at the beginning and end of cells.  For instance, \"University of Central Florida\" and \" University of Central Florida\" both appear in the column."
      ]
     },
     "metadata": {},
     "output_type": "display_data"
    }
   ],
   "source": [
    "# Check your answer (Run this code cell to receive credit!)\n",
    "q1.check()"
   ]
  },
  {
   "cell_type": "code",
   "execution_count": 6,
   "id": "06b31243",
   "metadata": {
    "execution": {
     "iopub.execute_input": "2023-07-13T16:59:45.844477Z",
     "iopub.status.busy": "2023-07-13T16:59:45.843991Z",
     "iopub.status.idle": "2023-07-13T16:59:45.849625Z",
     "shell.execute_reply": "2023-07-13T16:59:45.848252Z"
    },
    "papermill": {
     "duration": 0.016925,
     "end_time": "2023-07-13T16:59:45.852099",
     "exception": false,
     "start_time": "2023-07-13T16:59:45.835174",
     "status": "completed"
    },
    "tags": []
   },
   "outputs": [],
   "source": [
    "# Line below will give you a hint\n",
    "#q1.hint()"
   ]
  },
  {
   "cell_type": "markdown",
   "id": "a35f47a5",
   "metadata": {
    "papermill": {
     "duration": 0.007175,
     "end_time": "2023-07-13T16:59:45.866639",
     "exception": false,
     "start_time": "2023-07-13T16:59:45.859464",
     "status": "completed"
    },
    "tags": []
   },
   "source": [
    "# 2) Do some text pre-processing\n",
    "\n",
    "Convert every entry in the \"Graduated from\" column in the `professors` DataFrame to remove white spaces at the beginning and end of cells."
   ]
  },
  {
   "cell_type": "code",
   "execution_count": 7,
   "id": "0f6a125a",
   "metadata": {
    "execution": {
     "iopub.execute_input": "2023-07-13T16:59:45.883172Z",
     "iopub.status.busy": "2023-07-13T16:59:45.882729Z",
     "iopub.status.idle": "2023-07-13T16:59:45.898089Z",
     "shell.execute_reply": "2023-07-13T16:59:45.896873Z"
    },
    "papermill": {
     "duration": 0.026504,
     "end_time": "2023-07-13T16:59:45.900397",
     "exception": false,
     "start_time": "2023-07-13T16:59:45.873893",
     "status": "completed"
    },
    "tags": []
   },
   "outputs": [
    {
     "data": {
      "application/javascript": [
       "parent.postMessage({\"jupyterEvent\": \"custom.exercise_interaction\", \"data\": {\"outcomeType\": 1, \"valueTowardsCompletion\": 0.3333333333333333, \"interactionType\": 1, \"questionType\": 1, \"questionId\": \"2_TextProcessing\", \"learnToolsVersion\": \"0.3.4\", \"failureMessage\": \"\", \"exceptionClass\": \"\", \"trace\": \"\"}}, \"*\")"
      ],
      "text/plain": [
       "<IPython.core.display.Javascript object>"
      ]
     },
     "metadata": {},
     "output_type": "display_data"
    },
    {
     "data": {
      "text/markdown": [
       "<span style=\"color:#33cc33\">Correct</span>"
      ],
      "text/plain": [
       "Correct"
      ]
     },
     "metadata": {},
     "output_type": "display_data"
    }
   ],
   "source": [
    "# TODO: Your code here\n",
    "professors['Graduated from']=professors['Graduated from'].str.strip()\n",
    "\n",
    "# Check your answer\n",
    "q2.check()"
   ]
  },
  {
   "cell_type": "code",
   "execution_count": 8,
   "id": "ab34db60",
   "metadata": {
    "execution": {
     "iopub.execute_input": "2023-07-13T16:59:45.917682Z",
     "iopub.status.busy": "2023-07-13T16:59:45.916942Z",
     "iopub.status.idle": "2023-07-13T16:59:45.921191Z",
     "shell.execute_reply": "2023-07-13T16:59:45.920400Z"
    },
    "papermill": {
     "duration": 0.015641,
     "end_time": "2023-07-13T16:59:45.923526",
     "exception": false,
     "start_time": "2023-07-13T16:59:45.907885",
     "status": "completed"
    },
    "tags": []
   },
   "outputs": [],
   "source": [
    "# Lines below will give you a hint or solution code\n",
    "#q2.hint()\n",
    "#q2.solution()"
   ]
  },
  {
   "cell_type": "markdown",
   "id": "eea86202",
   "metadata": {
    "papermill": {
     "duration": 0.007327,
     "end_time": "2023-07-13T16:59:45.938504",
     "exception": false,
     "start_time": "2023-07-13T16:59:45.931177",
     "status": "completed"
    },
    "tags": []
   },
   "source": [
    "# 3) Continue working with countries\n",
    "\n",
    "In the tutorial, we focused on cleaning up inconsistencies in the \"Country\" column.  Run the code cell below to view the list of unique values that we ended with."
   ]
  },
  {
   "cell_type": "code",
   "execution_count": 9,
   "id": "7c23046d",
   "metadata": {
    "execution": {
     "iopub.execute_input": "2023-07-13T16:59:45.955927Z",
     "iopub.status.busy": "2023-07-13T16:59:45.955185Z",
     "iopub.status.idle": "2023-07-13T16:59:45.962209Z",
     "shell.execute_reply": "2023-07-13T16:59:45.961462Z"
    },
    "papermill": {
     "duration": 0.018211,
     "end_time": "2023-07-13T16:59:45.964364",
     "exception": false,
     "start_time": "2023-07-13T16:59:45.946153",
     "status": "completed"
    },
    "tags": []
   },
   "outputs": [
    {
     "data": {
      "text/plain": [
       "array(['australia', 'austria', 'canada', 'china', 'finland', 'france',\n",
       "       'germany', 'greece', 'hongkong', 'ireland', 'italy', 'japan',\n",
       "       'macau', 'malaysia', 'mauritius', 'netherland', 'new zealand',\n",
       "       'norway', 'pakistan', 'portugal', 'russian federation',\n",
       "       'saudi arabia', 'scotland', 'singapore', 'south korea', 'spain',\n",
       "       'sweden', 'thailand', 'turkey', 'uk', 'urbana', 'usa', 'usofa'],\n",
       "      dtype=object)"
      ]
     },
     "execution_count": 9,
     "metadata": {},
     "output_type": "execute_result"
    }
   ],
   "source": [
    "# get all the unique values in the 'City' column\n",
    "countries = professors['Country'].unique()\n",
    "\n",
    "# sort them alphabetically and then take a closer look\n",
    "countries.sort()\n",
    "countries"
   ]
  },
  {
   "cell_type": "markdown",
   "id": "4051cc2d",
   "metadata": {
    "papermill": {
     "duration": 0.007377,
     "end_time": "2023-07-13T16:59:45.979442",
     "exception": false,
     "start_time": "2023-07-13T16:59:45.972065",
     "status": "completed"
    },
    "tags": []
   },
   "source": [
    "Take another look at the \"Country\" column and see if there's any more data cleaning we need to do.\n",
    "\n",
    "It looks like 'usa' and 'usofa' should be the same country.  Correct the \"Country\" column in the dataframe to replace 'usofa' with 'usa'.\n",
    "\n",
    "**Use the most recent version of the DataFrame (with the whitespaces at the beginning and end of cells removed) from question 2.**"
   ]
  },
  {
   "cell_type": "code",
   "execution_count": 10,
   "id": "67738ced",
   "metadata": {
    "execution": {
     "iopub.execute_input": "2023-07-13T16:59:45.997558Z",
     "iopub.status.busy": "2023-07-13T16:59:45.996829Z",
     "iopub.status.idle": "2023-07-13T16:59:46.010754Z",
     "shell.execute_reply": "2023-07-13T16:59:46.009710Z"
    },
    "papermill": {
     "duration": 0.026055,
     "end_time": "2023-07-13T16:59:46.013408",
     "exception": false,
     "start_time": "2023-07-13T16:59:45.987353",
     "status": "completed"
    },
    "tags": []
   },
   "outputs": [
    {
     "name": "stdout",
     "output_type": "stream",
     "text": [
      "All done!\n"
     ]
    },
    {
     "data": {
      "application/javascript": [
       "parent.postMessage({\"jupyterEvent\": \"custom.exercise_interaction\", \"data\": {\"outcomeType\": 1, \"valueTowardsCompletion\": 0.3333333333333333, \"interactionType\": 1, \"questionType\": 1, \"questionId\": \"3_WorkingWithCities\", \"learnToolsVersion\": \"0.3.4\", \"failureMessage\": \"\", \"exceptionClass\": \"\", \"trace\": \"\"}}, \"*\")"
      ],
      "text/plain": [
       "<IPython.core.display.Javascript object>"
      ]
     },
     "metadata": {},
     "output_type": "display_data"
    },
    {
     "data": {
      "text/markdown": [
       "<span style=\"color:#33cc33\">Correct</span>"
      ],
      "text/plain": [
       "Correct"
      ]
     },
     "metadata": {},
     "output_type": "display_data"
    }
   ],
   "source": [
    "# TODO: Your code here!\n",
    "matches = fuzzywuzzy.process.extract(\"usa\", countries, limit=10, scorer=fuzzywuzzy.fuzz.token_sort_ratio)\n",
    "replace_matches_in_column(df=professors, column='Country', string_to_match=\"usa\", min_ratio=70)\n",
    "# Check your answer\n",
    "q3.check()"
   ]
  },
  {
   "cell_type": "code",
   "execution_count": 11,
   "id": "ce084549",
   "metadata": {
    "execution": {
     "iopub.execute_input": "2023-07-13T16:59:46.032618Z",
     "iopub.status.busy": "2023-07-13T16:59:46.031794Z",
     "iopub.status.idle": "2023-07-13T16:59:46.036519Z",
     "shell.execute_reply": "2023-07-13T16:59:46.035728Z"
    },
    "papermill": {
     "duration": 0.017038,
     "end_time": "2023-07-13T16:59:46.038868",
     "exception": false,
     "start_time": "2023-07-13T16:59:46.021830",
     "status": "completed"
    },
    "tags": []
   },
   "outputs": [],
   "source": [
    "# Lines below will give you a hint or solution code\n",
    "#q3.hint()\n",
    "#q3.solution()"
   ]
  },
  {
   "cell_type": "markdown",
   "id": "12358fb2",
   "metadata": {
    "papermill": {
     "duration": 0.008185,
     "end_time": "2023-07-13T16:59:46.055175",
     "exception": false,
     "start_time": "2023-07-13T16:59:46.046990",
     "status": "completed"
    },
    "tags": []
   },
   "source": [
    "# Congratulations!\n",
    "\n",
    "Congratulations for completing the **Data Cleaning** course on Kaggle Learn!\n",
    "\n",
    "To practice your new skills, you're encouraged to download and investigate some of [Kaggle's Datasets](https://www.kaggle.com/datasets)."
   ]
  },
  {
   "cell_type": "markdown",
   "id": "a791dc75",
   "metadata": {
    "papermill": {
     "duration": 0.008046,
     "end_time": "2023-07-13T16:59:46.072156",
     "exception": false,
     "start_time": "2023-07-13T16:59:46.064110",
     "status": "completed"
    },
    "tags": []
   },
   "source": [
    "---\n",
    "\n",
    "\n",
    "\n",
    "\n",
    "*Have questions or comments? Visit the [course discussion forum](https://www.kaggle.com/learn/data-cleaning/discussion) to chat with other learners.*"
   ]
  }
 ],
 "metadata": {
  "kernelspec": {
   "display_name": "Python 3",
   "language": "python",
   "name": "python3"
  },
  "language_info": {
   "codemirror_mode": {
    "name": "ipython",
    "version": 3
   },
   "file_extension": ".py",
   "mimetype": "text/x-python",
   "name": "python",
   "nbconvert_exporter": "python",
   "pygments_lexer": "ipython3",
   "version": "3.10.12"
  },
  "papermill": {
   "default_parameters": {},
   "duration": 15.261478,
   "end_time": "2023-07-13T16:59:47.002713",
   "environment_variables": {},
   "exception": null,
   "input_path": "__notebook__.ipynb",
   "output_path": "__notebook__.ipynb",
   "parameters": {},
   "start_time": "2023-07-13T16:59:31.741235",
   "version": "2.4.0"
  }
 },
 "nbformat": 4,
 "nbformat_minor": 5
}
